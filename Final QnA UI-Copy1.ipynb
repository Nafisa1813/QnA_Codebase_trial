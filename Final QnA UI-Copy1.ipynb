{
 "cells": [
  {
   "cell_type": "code",
   "execution_count": 1,
   "id": "65a88aee",
   "metadata": {
    "code_folding": [
     0
    ]
   },
   "outputs": [
    {
     "data": {
      "text/html": [
       "<script>\n",
       "code_show=true; \n",
       "function code_toggle() {\n",
       " if (code_show){\n",
       " $('div.input').hide();\n",
       " } else {\n",
       " $('div.input').show();\n",
       " }\n",
       " code_show = !code_show\n",
       "} \n",
       "$( document ).ready(code_toggle);\n",
       "</script>\n",
       "<form action=\"javascript:code_toggle()\"><input type=\"submit\" value=\"Click here to toggle on/off the raw code.\"></form>"
      ],
      "text/plain": [
       "<IPython.core.display.HTML object>"
      ]
     },
     "execution_count": 1,
     "metadata": {},
     "output_type": "execute_result"
    }
   ],
   "source": [
    "# from IPython.display import HTML\n",
    "# #\n",
    "# HTML('''<script>\n",
    "# code_show=true; \n",
    "# function code_toggle() {\n",
    "#  if (code_show){\n",
    "#  $('div.input').hide();\n",
    "#  } else {\n",
    "#  $('div.input').show();\n",
    "#  }\n",
    "#  code_show = !code_show\n",
    "# } \n",
    "# $( document ).ready(code_toggle);\n",
    "# </script>\n",
    "# <form action=\"javascript:code_toggle()\"><input type=\"submit\" value=\"Click here to toggle on/off the raw code.\"></form>''')"
   ]
  },
  {
   "cell_type": "code",
   "execution_count": 1,
   "id": "3d6be31e",
   "metadata": {
    "code_folding": []
   },
   "outputs": [
    {
     "data": {
      "text/html": [
       "<style>\n",
       "body {\n",
       "  background: linear-gradient(to right, #20B2AA, #87CEFA);\n",
       "}\n",
       "\n",
       ".lbl_bg {\n",
       "  background-color: #8A8A8A;\n",
       "  color: white;\n",
       "  border-radius: 10px;\n",
       "  padding: 20px;\n",
       "  box-shadow: 4px 4px 4px #708090;\n",
       "}\n",
       "\n",
       ".box_style {\n",
       "  width: 50%;\n",
       "  border: 4px solid #FF00FF;\n",
       "  height: auto;\n",
       "  background: linear-gradient(to right, #90EE90, #32CD32);\n",
       "  border-radius: 10px;\n",
       "  box-shadow: 4px 4px 4px #708090;\n",
       "  padding: 20px;\n",
       "}\n",
       "\n",
       ".box_style1 {\n",
       "  width: 90%;\n",
       "  \n",
       "  font-size: 50px;\n",
       "  background: linear-gradient(to right, #000000, #000000);\n",
       "  border-radius: 10px;\n",
       "  box-shadow: 4px 4px 4px #708090;\n",
       "  border: 5px solid #708090;\n",
       "  color: #FFFFFF;\n",
       "  margin: auto;                             \n",
       "  padding: 10px;\n",
       "  border-radius: 10px;\n",
       "  cursor: pointer;\n",
       "  text-align: center;\n",
       "  display: flex;\n",
       "  align-items: center;\n",
       "}\n",
       ".box_style3 {\n",
       "  width: 90%;\n",
       "  \n",
       "  font-size: 50px;\n",
       "  background: linear-gradient(to right, #000000, #000000);\n",
       "  border-radius: 10px;\n",
       "  box-shadow: 4px 4px 4px #708090;\n",
       "  border: 5px solid #708090;\n",
       "  color: #FFFFFF;\n",
       "  margin: auto;                             \n",
       "  padding: 10px;\n",
       "  border-radius: 10px;\n",
       "  cursor: pointer;\n",
       "}\n",
       "\n",
       ".radio_style1 {\n",
       "  width: 50%;\n",
       "  border: 4px solid #FF00FF;\n",
       "  height: auto;\n",
       "  background: linear-gradient(to right, #7FFFD4, #00FFFF);\n",
       "  border-radius: 10px;\n",
       "  box-shadow: 4px 4px 4px #708090;\n",
       "  padding: 20px;\n",
       "}\n",
       "\n",
       ".box_style2 {\n",
       "  width: 90%;\n",
       "  border: 2px solid #708090;\n",
       "  height: auto;\n",
       "  background: linear-gradient(to right, #8A8A8A, #8A8A8A);\n",
       "  border-radius: 10px;\n",
       "  box-shadow: 4px 4px 4px #708090;\n",
       "  padding: 20px;\n",
       "  color: ##9F9FFF\n",
       "            \n",
       "}\n",
       "\n",
       ".top_spacing {\n",
       "  margin-top: 30px;\n",
       "}\n",
       "\n",
       ".left_spacing {\n",
       "  margin-left: 0px;\n",
       "}\n",
       "\n",
       ".left_spacing_2 {\n",
       "  margin-left: 300px;\n",
       "}\n",
       "\n",
       ".button_style {\n",
       "  border: 5px solid #708090;\n",
       "  background: linear-gradient(to right, #171717, #171717);\n",
       "  color: #1E90FF;\n",
       "  height: auto;                             \n",
       "  padding: 10px;\n",
       "  border-radius: 10px;\n",
       "  font-size: 15px;\n",
       "  box-shadow: 4px 4px 4px #708090;\n",
       "  cursor: pointer;\n",
       "  margin: auto\n",
       "}\n",
       "\n",
       ".top_spacing_2 {\n",
       "  margin-top: -30px;\n",
       "}\n",
       ".white_label { color:white; font-size: 25px}\n",
       "</style>\n"
      ],
      "text/plain": [
       "<IPython.core.display.HTML object>"
      ]
     },
     "metadata": {},
     "output_type": "display_data"
    }
   ],
   "source": [
    "%%html\n",
    "<style>\n",
    "body {\n",
    "  background: linear-gradient(to right, #20B2AA, #87CEFA);\n",
    "}\n",
    "\n",
    ".lbl_bg {\n",
    "  background-color: #8A8A8A;\n",
    "  color: white;\n",
    "  border-radius: 10px;\n",
    "  padding: 20px;\n",
    "  box-shadow: 4px 4px 4px #708090;\n",
    "}\n",
    "\n",
    ".box_style {\n",
    "  width: 50%;\n",
    "  border: 4px solid #FF00FF;\n",
    "  height: auto;\n",
    "  background: linear-gradient(to right, #90EE90, #32CD32);\n",
    "  border-radius: 10px;\n",
    "  box-shadow: 4px 4px 4px #708090;\n",
    "  padding: 20px;\n",
    "}\n",
    "\n",
    ".box_style1 {\n",
    "  width: 90%;\n",
    "  \n",
    "  font-size: 50px;\n",
    "  background: linear-gradient(to right, #000000, #000000);\n",
    "  border-radius: 10px;\n",
    "  box-shadow: 4px 4px 4px #708090;\n",
    "  border: 5px solid #708090;\n",
    "  color: #FFFFFF;\n",
    "  margin: auto;                             \n",
    "  padding: 10px;\n",
    "  border-radius: 10px;\n",
    "  cursor: pointer;\n",
    "  text-align: center;\n",
    "  display: flex;\n",
    "  align-items: center;\n",
    "}\n",
    ".box_style3 {\n",
    "  width: 90%;\n",
    "  \n",
    "  font-size: 50px;\n",
    "  background: linear-gradient(to right, #000000, #000000);\n",
    "  border-radius: 10px;\n",
    "  box-shadow: 4px 4px 4px #708090;\n",
    "  border: 5px solid #708090;\n",
    "  color: #FFFFFF;\n",
    "  margin: auto;                             \n",
    "  padding: 10px;\n",
    "  border-radius: 10px;\n",
    "  cursor: pointer;\n",
    "}\n",
    "\n",
    ".radio_style1 {\n",
    "  width: 50%;\n",
    "  border: 4px solid #FF00FF;\n",
    "  height: auto;\n",
    "  background: linear-gradient(to right, #7FFFD4, #00FFFF);\n",
    "  border-radius: 10px;\n",
    "  box-shadow: 4px 4px 4px #708090;\n",
    "  padding: 20px;\n",
    "}\n",
    "\n",
    ".box_style2 {\n",
    "  width: 90%;\n",
    "  border: 2px solid #708090;\n",
    "  height: auto;\n",
    "  background: linear-gradient(to right, #8A8A8A, #8A8A8A);\n",
    "  border-radius: 10px;\n",
    "  box-shadow: 4px 4px 4px #708090;\n",
    "  padding: 20px;\n",
    "  color: ##9F9FFF\n",
    "            \n",
    "}\n",
    "\n",
    ".top_spacing {\n",
    "  margin-top: 30px;\n",
    "}\n",
    "\n",
    ".left_spacing {\n",
    "  margin-left: 0px;\n",
    "}\n",
    "\n",
    ".left_spacing_2 {\n",
    "  margin-left: 300px;\n",
    "}\n",
    "\n",
    ".button_style {\n",
    "  border: 5px solid #708090;\n",
    "  background: linear-gradient(to right, #171717, #171717);\n",
    "  color: #1E90FF;\n",
    "  height: auto;                             \n",
    "  padding: 10px;\n",
    "  border-radius: 10px;\n",
    "  font-size: 15px;\n",
    "  box-shadow: 4px 4px 4px #708090;\n",
    "  cursor: pointer;\n",
    "  margin: auto\n",
    "}\n",
    "\n",
    ".top_spacing_2 {\n",
    "  margin-top: -30px;\n",
    "}\n",
    ".white_label { color:white; font-size: 25px}\n",
    "</style>"
   ]
  },
  {
   "cell_type": "code",
   "execution_count": 2,
   "id": "f5f2e769",
   "metadata": {},
   "outputs": [
    {
     "name": "stderr",
     "output_type": "stream",
     "text": [
      "C:\\Users\\na27078\\Anaconda3\\envs\\env_138\\lib\\site-packages\\numpy\\_distributor_init.py:30: UserWarning: loaded more than 1 DLL from .libs:\n",
      "C:\\Users\\na27078\\Anaconda3\\envs\\env_138\\lib\\site-packages\\numpy\\.libs\\libopenblas.FB5AE2TYXYH2IJRDKGDGQ3XBKLKTF43H.gfortran-win_amd64.dll\n",
      "C:\\Users\\na27078\\Anaconda3\\envs\\env_138\\lib\\site-packages\\numpy\\.libs\\libopenblas.XWYDX2IKJW2NMTWSFYNGFUWKQU3LYTCZ.gfortran-win_amd64.dll\n",
      "  warnings.warn(\"loaded more than 1 DLL from .libs:\"\n",
      "C:\\Users\\na27078\\AppData\\Roaming\\Python\\Python38\\site-packages\\scipy\\__init__.py:146: UserWarning: A NumPy version >=1.16.5 and <1.23.0 is required for this version of SciPy (detected version 1.23.5\n",
      "  warnings.warn(f\"A NumPy version >={np_minversion} and <{np_maxversion}\"\n",
      "OpenAI tiktoken module is not available for Python < 3.8,Linux ARM64 and AARCH64. Falling back to GPT2TokenizerFast.\n",
      "WARNING:haystack.nodes.answer_generator.openai:OpenAI tiktoken module is not available for Python < 3.8,Linux ARM64 and AARCH64. Falling back to GPT2TokenizerFast.\n",
      "C:\\Users\\na27078\\Anaconda3\\envs\\env_138\\lib\\site-packages\\paramiko\\transport.py:219: CryptographyDeprecationWarning: Blowfish has been deprecated\n",
      "  \"class\": algorithms.Blowfish,\n",
      "C:\\Users\\na27078\\AppData\\Roaming\\Python\\Python38\\site-packages\\espnet2\\gan_tts\\vits\\vits.py:43: DeprecationWarning: distutils Version classes are deprecated. Use packaging.version instead.\n",
      "  if LooseVersion(torch.__version__) >= LooseVersion(\"1.6.0\"):\n",
      "C:\\Users\\na27078\\Anaconda3\\envs\\env_138\\lib\\site-packages\\pydub\\utils.py:170: RuntimeWarning: Couldn't find ffmpeg or avconv - defaulting to ffmpeg, but may not work\n",
      "  warn(\"Couldn't find ffmpeg or avconv - defaulting to ffmpeg, but may not work\", RuntimeWarning)\n"
     ]
    }
   ],
   "source": [
    "from QnAPipeline import UI"
   ]
  },
  {
   "cell_type": "code",
   "execution_count": 3,
   "id": "be7c581f",
   "metadata": {},
   "outputs": [
    {
     "data": {
      "application/vnd.jupyter.widget-view+json": {
       "model_id": "cb95ebf68ea1498b82e27d88125fb3ab",
       "version_major": 2,
       "version_minor": 0
      },
      "text/plain": [
       "HBox(children=(Box(children=(HTML(value=\"<b style='color: white;font-family: Georgia; margin-top: 50%'> Prompt…"
      ]
     },
     "metadata": {},
     "output_type": "display_data"
    },
    {
     "data": {
      "application/vnd.jupyter.widget-view+json": {
       "model_id": "9d18f37ee4f94454bd3d190be9b93d5f",
       "version_major": 2,
       "version_minor": 0
      },
      "text/plain": [
       "VBox(children=(VBox(children=(HBox(children=(VBox(children=(HTML(value='<b> ENTER QUERY PARAMETERS </b>'), HBo…"
      ]
     },
     "metadata": {},
     "output_type": "display_data"
    },
    {
     "data": {
      "application/vnd.jupyter.widget-view+json": {
       "model_id": "3e45dd3808d645eb997466868a23f089",
       "version_major": 2,
       "version_minor": 0
      },
      "text/plain": [
       "Output()"
      ]
     },
     "metadata": {},
     "output_type": "display_data"
    }
   ],
   "source": [
    "ui_obj = UI()\n",
    "ui_obj.display_ui_updated()"
   ]
  },
  {
   "cell_type": "code",
   "execution_count": null,
   "id": "a510313c",
   "metadata": {},
   "outputs": [],
   "source": []
  },
  {
   "cell_type": "code",
   "execution_count": null,
   "id": "6d9661d2",
   "metadata": {},
   "outputs": [],
   "source": []
  }
 ],
 "metadata": {
  "kernelspec": {
   "display_name": "Python 3 (ipykernel)",
   "language": "python",
   "name": "python3"
  },
  "language_info": {
   "codemirror_mode": {
    "name": "ipython",
    "version": 3
   },
   "file_extension": ".py",
   "mimetype": "text/x-python",
   "name": "python",
   "nbconvert_exporter": "python",
   "pygments_lexer": "ipython3",
   "version": "3.8.16"
  },
  "toc": {
   "base_numbering": 1,
   "nav_menu": {},
   "number_sections": true,
   "sideBar": true,
   "skip_h1_title": false,
   "title_cell": "Table of Contents",
   "title_sidebar": "Contents",
   "toc_cell": false,
   "toc_position": {},
   "toc_section_display": true,
   "toc_window_display": false
  }
 },
 "nbformat": 4,
 "nbformat_minor": 5
}
